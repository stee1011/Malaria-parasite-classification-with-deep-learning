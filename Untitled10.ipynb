{
  "nbformat": 4,
  "nbformat_minor": 0,
  "metadata": {
    "colab": {
      "provenance": [],
      "gpuType": "T4",
      "authorship_tag": "ABX9TyOfGTJKGfpdKehQdDzfGDQu",
      "include_colab_link": true
    },
    "kernelspec": {
      "name": "python3",
      "display_name": "Python 3"
    },
    "language_info": {
      "name": "python"
    },
    "accelerator": "GPU"
  },
  "cells": [
    {
      "cell_type": "markdown",
      "metadata": {
        "id": "view-in-github",
        "colab_type": "text"
      },
      "source": [
        "<a href=\"https://colab.research.google.com/github/stee1011/Malaria-parasite-classification-with-deep-learning/blob/main/Untitled10.ipynb\" target=\"_parent\"><img src=\"https://colab.research.google.com/assets/colab-badge.svg\" alt=\"Open In Colab\"/></a>"
      ]
    },
    {
      "cell_type": "code",
      "execution_count": 1,
      "metadata": {
        "colab": {
          "base_uri": "https://localhost:8080/"
        },
        "id": "akVk5VqWsWHf",
        "outputId": "b409bd75-ddc6-400f-cc29-ce9ffc04eab2"
      },
      "outputs": [
        {
          "output_type": "stream",
          "name": "stdout",
          "text": [
            "Mounted at /content/drive\n"
          ]
        }
      ],
      "source": [
        "\n",
        "from google.colab import drive\n",
        "\n",
        "drive.mount(\"/content/drive\")\n"
      ]
    },
    {
      "cell_type": "code",
      "source": [
        "ls"
      ],
      "metadata": {
        "colab": {
          "base_uri": "https://localhost:8080/"
        },
        "id": "YvQeofVhsoVZ",
        "outputId": "c74e0f17-69c8-484a-fcdf-7428b4a65e5a"
      },
      "execution_count": 2,
      "outputs": [
        {
          "output_type": "stream",
          "name": "stdout",
          "text": [
            "\u001b[0m\u001b[01;34mdrive\u001b[0m/  \u001b[01;34msample_data\u001b[0m/\n"
          ]
        }
      ]
    },
    {
      "cell_type": "code",
      "source": [
        "cd drive"
      ],
      "metadata": {
        "colab": {
          "base_uri": "https://localhost:8080/"
        },
        "id": "BBTyZTHpxE1Q",
        "outputId": "86d942c3-a005-4074-c056-6f732c03e618"
      },
      "execution_count": 3,
      "outputs": [
        {
          "output_type": "stream",
          "name": "stdout",
          "text": [
            "/content/drive\n"
          ]
        }
      ]
    },
    {
      "cell_type": "code",
      "source": [
        "ls"
      ],
      "metadata": {
        "colab": {
          "base_uri": "https://localhost:8080/"
        },
        "id": "VvfzBBcGxGsf",
        "outputId": "ab81e677-0c0f-478c-eef0-5d03c6a6433c"
      },
      "execution_count": 4,
      "outputs": [
        {
          "output_type": "stream",
          "name": "stdout",
          "text": [
            "\u001b[0m\u001b[01;34mMyDrive\u001b[0m/\n"
          ]
        }
      ]
    },
    {
      "cell_type": "code",
      "source": [
        "cd MyDrive"
      ],
      "metadata": {
        "colab": {
          "base_uri": "https://localhost:8080/"
        },
        "id": "DDGrOIrxxH3L",
        "outputId": "37660ce3-abf5-4aae-b391-b217ce56ca07"
      },
      "execution_count": 5,
      "outputs": [
        {
          "output_type": "stream",
          "name": "stdout",
          "text": [
            "/content/drive/MyDrive\n"
          ]
        }
      ]
    },
    {
      "cell_type": "code",
      "source": [
        "ls"
      ],
      "metadata": {
        "colab": {
          "base_uri": "https://localhost:8080/"
        },
        "id": "gxE6lzEPxJaD",
        "outputId": "3ae6db4e-335e-4ff4-89c1-e8d624418881"
      },
      "execution_count": null,
      "outputs": [
        {
          "output_type": "stream",
          "name": "stdout",
          "text": [
            " \u001b[0m\u001b[01;34mCEHv-12\u001b[0m/\n",
            "'ChatGPT Image Jul 10, 2025, 08_05_51 AM.png'\n",
            "'ChatGPT Image Jul 9, 2025, 07_55_46 AM.png'\n",
            "'ChatGPT Image Jul 9, 2025, 08_07_47 AM.png'\n",
            "\u001b[01;34m'Colab Notebooks'\u001b[0m/\n",
            " \u001b[01;34mdata\u001b[0m/\n",
            " github-recovery-codes.txt\n",
            "'hydro-bill-hub — Mozilla Firefox 2025-07-30 08-14-40.mp4'\n",
            " log2.png\n",
            " logo_main.png\n",
            " logonew_.png\n",
            " log.png\n",
            " \u001b[01;34mmaralia\u001b[0m/\n",
            " payp.png\n",
            "'Phi-3 Data Science Fine-tuning'$'\\n'' (1).gdoc'\n",
            "'Phi-3 Data Science Fine-tuning'$'\\n''.gdoc'\n",
            "\u001b[01;34m'Saved from Chrome'\u001b[0m/\n",
            " wbms.rar\n",
            "'Your paragraph text.png'\n"
          ]
        }
      ]
    },
    {
      "cell_type": "code",
      "source": [
        "import os\n",
        "from PIL import Image\n",
        "import torch\n",
        "from torch.utils.data import Dataset, DataLoader\n",
        "import torchvision.transforms as transforms"
      ],
      "metadata": {
        "id": "OzkjTRWVxKIb"
      },
      "execution_count": 6,
      "outputs": []
    },
    {
      "cell_type": "code",
      "source": [
        "ls"
      ],
      "metadata": {
        "colab": {
          "base_uri": "https://localhost:8080/"
        },
        "id": "Mcu1uqI3x9vx",
        "outputId": "e8521772-726d-419b-c0bc-07024107655c"
      },
      "execution_count": null,
      "outputs": [
        {
          "output_type": "stream",
          "name": "stdout",
          "text": [
            " \u001b[0m\u001b[01;34mCEHv-12\u001b[0m/\n",
            "'ChatGPT Image Jul 10, 2025, 08_05_51 AM.png'\n",
            "'ChatGPT Image Jul 9, 2025, 07_55_46 AM.png'\n",
            "'ChatGPT Image Jul 9, 2025, 08_07_47 AM.png'\n",
            "\u001b[01;34m'Colab Notebooks'\u001b[0m/\n",
            " \u001b[01;34mdata\u001b[0m/\n",
            " github-recovery-codes.txt\n",
            "'hydro-bill-hub — Mozilla Firefox 2025-07-30 08-14-40.mp4'\n",
            " log2.png\n",
            " logo_main.png\n",
            " logonew_.png\n",
            " log.png\n",
            " \u001b[01;34mmaralia\u001b[0m/\n",
            " payp.png\n",
            "'Phi-3 Data Science Fine-tuning'$'\\n'' (1).gdoc'\n",
            "'Phi-3 Data Science Fine-tuning'$'\\n''.gdoc'\n",
            "\u001b[01;34m'Saved from Chrome'\u001b[0m/\n",
            " wbms.rar\n",
            "'Your paragraph text.png'\n"
          ]
        }
      ]
    },
    {
      "cell_type": "code",
      "source": [
        "cd maralia/"
      ],
      "metadata": {
        "colab": {
          "base_uri": "https://localhost:8080/"
        },
        "id": "rV1eEODZ1b5m",
        "outputId": "e41ee50c-7c87-4523-e68c-23cdb3af234e"
      },
      "execution_count": null,
      "outputs": [
        {
          "output_type": "stream",
          "name": "stdout",
          "text": [
            "/content/drive/MyDrive/maralia\n"
          ]
        }
      ]
    },
    {
      "cell_type": "code",
      "source": [
        "cd maralia\n"
      ],
      "metadata": {
        "colab": {
          "base_uri": "https://localhost:8080/"
        },
        "id": "IFOQQKve1dze",
        "outputId": "281849e1-9cfe-4c49-ef5f-6a2d3bb17aaa"
      },
      "execution_count": 10,
      "outputs": [
        {
          "output_type": "stream",
          "name": "stdout",
          "text": [
            "/content/drive/MyDrive/maralia\n"
          ]
        }
      ]
    },
    {
      "cell_type": "code",
      "source": [
        "import zipfile\n",
        "import os\n",
        "\n",
        "def unzip_archive(zip_path, extract_to):\n",
        "    \"\"\"\n",
        "    Unzips a .zip archive into a target directory.\n",
        "\n",
        "    Args:\n",
        "        zip_path (str): Path to the .zip file.\n",
        "        extract_to (str): Directory where files should be extracted.\n",
        "    \"\"\"\n",
        "    # Make sure target directory exists\n",
        "    os.makedirs(extract_to, exist_ok=True)\n",
        "\n",
        "    # Open and extract\n",
        "    with zipfile.ZipFile(zip_path, 'r') as zip_ref:\n",
        "        zip_ref.extractall(extract_to)\n",
        "        print(f\"Extracted {len(zip_ref.namelist())} files to {extract_to}\")\n",
        "\n",
        "# Example usage\n",
        "zip_path = \"archive (9).zip\"\n",
        "extract_to = \"/content/datasets/malaria\"\n",
        "\n",
        "unzip_archive(zip_path, extract_to)\n"
      ],
      "metadata": {
        "colab": {
          "base_uri": "https://localhost:8080/"
        },
        "id": "GbdJzpM51eiG",
        "outputId": "c5189737-70ac-49d7-9f08-e50cea4f2140"
      },
      "execution_count": 11,
      "outputs": [
        {
          "output_type": "stream",
          "name": "stdout",
          "text": [
            "Extracted 55120 files to /content/datasets/malaria\n"
          ]
        }
      ]
    },
    {
      "cell_type": "code",
      "source": [
        "cd /content/datasets/malaria"
      ],
      "metadata": {
        "colab": {
          "base_uri": "https://localhost:8080/"
        },
        "id": "8Xdry9Op1skT",
        "outputId": "0592b975-7820-4cae-9398-0ecbeae2f234"
      },
      "execution_count": 12,
      "outputs": [
        {
          "output_type": "stream",
          "name": "stdout",
          "text": [
            "/content/datasets/malaria\n"
          ]
        }
      ]
    },
    {
      "cell_type": "code",
      "source": [
        "cd cell_images/"
      ],
      "metadata": {
        "colab": {
          "base_uri": "https://localhost:8080/"
        },
        "id": "zaFQ8VYE15-o",
        "outputId": "865a2f85-5342-4b76-a48b-9a8041374289"
      },
      "execution_count": 13,
      "outputs": [
        {
          "output_type": "stream",
          "name": "stdout",
          "text": [
            "/content/datasets/malaria/cell_images\n"
          ]
        }
      ]
    },
    {
      "cell_type": "code",
      "source": [
        "ls"
      ],
      "metadata": {
        "colab": {
          "base_uri": "https://localhost:8080/"
        },
        "id": "T6Fo5wbr18Qg",
        "outputId": "6f0e8067-23e1-491d-c1ec-4797de4d996f"
      },
      "execution_count": 14,
      "outputs": [
        {
          "output_type": "stream",
          "name": "stdout",
          "text": [
            "\u001b[0m\u001b[01;34mcell_images\u001b[0m/  \u001b[01;34mParasitized\u001b[0m/  \u001b[01;34mUninfected\u001b[0m/\n"
          ]
        }
      ]
    },
    {
      "cell_type": "code",
      "source": [
        "root_dir = \"./cell_images\""
      ],
      "metadata": {
        "id": "tS7SDyNA18-o"
      },
      "execution_count": 30,
      "outputs": []
    },
    {
      "cell_type": "code",
      "source": [
        "transform = transforms.Compose([\n",
        "    transforms.RandomCrop(32, padding=4),\n",
        "    transforms.RandomHorizontalFlip(),\n",
        "    transforms.ColorJitter(brightness=0.2, contrast=0.2, saturation=0.2),\n",
        "    transforms.RandomRotation(15),\n",
        "    transforms.ToTensor(),\n",
        "    transforms.Normalize((0.4914, 0.4822, 0.4465),\n",
        "                     (0.2023, 0.1994, 0.2010))\n",
        "])"
      ],
      "metadata": {
        "id": "ojyvGktE8zSe"
      },
      "execution_count": 31,
      "outputs": []
    },
    {
      "cell_type": "code",
      "source": [
        "class Malaria(Dataset):\n",
        "  def __init__(self, root_dir=root_dir, transform=transform):\n",
        "    self.root_dir = root_dir\n",
        "    self.transform = transform\n",
        "    self.samples = []\n",
        "\n",
        "    classes = os.listdir(self.root_dir)\n",
        "    cls_idx = {cls : i for i, cls in enumerate(classes, 0)}\n",
        "    valid_f = (\".png\", \".jpg\", \".jpeg\", \".bmp\", \".tiff\")\n",
        "    for cls in classes:\n",
        "      cls_loc = os.path.join(self.root_dir, cls)\n",
        "      cls_files = os.listdir(cls_loc)\n",
        "      for cls_file in cls_files:\n",
        "        if cls_file.lower().endswith(valid_f):\n",
        "\n",
        "          img_file = os.path.join(cls_loc, cls_file)\n",
        "          self.samples.append((img_file, cls_idx[cls]))\n",
        "\n",
        "  def __len__(self):\n",
        "    return len(self.samples)\n",
        "\n",
        "  def __getitem__(self, index):\n",
        "    image_path, label = self.samples[index]\n",
        "    image = Image.open(image_path).convert(\"RGB\")\n",
        "    if self.transform:\n",
        "      image = self.transform(image)\n",
        "    return image, label\n"
      ],
      "metadata": {
        "id": "umWI5iZI2GoW"
      },
      "execution_count": 40,
      "outputs": []
    },
    {
      "cell_type": "code",
      "source": [
        "dataset = Malaria(root_dir)"
      ],
      "metadata": {
        "id": "vg8gdQfi36bq"
      },
      "execution_count": 41,
      "outputs": []
    },
    {
      "cell_type": "code",
      "source": [
        "from torch.utils.data import random_split\n"
      ],
      "metadata": {
        "id": "ygXCYz934BVi"
      },
      "execution_count": 42,
      "outputs": []
    },
    {
      "cell_type": "code",
      "source": [
        "train_data = int(0.8 * len(dataset))\n",
        "val_data = len(dataset) - train_data\n",
        "trainset, testset = random_split(dataset, [train_data, val_data])"
      ],
      "metadata": {
        "id": "SX81PdTn4CRq"
      },
      "execution_count": 43,
      "outputs": []
    },
    {
      "cell_type": "code",
      "source": [
        "import torch, torch.nn as nn ,torch.nn.functional as F, torch.optim as optim\n",
        "from torchvision import datasets, transforms\n",
        "from torch.utils.data import DataLoader"
      ],
      "metadata": {
        "id": "CMcnxXPK7HgY"
      },
      "execution_count": 44,
      "outputs": []
    },
    {
      "cell_type": "code",
      "source": [
        "device = torch.device(\"cuda\" if torch.cuda.is_available() else \"cpu\")\n",
        "print(device)"
      ],
      "metadata": {
        "colab": {
          "base_uri": "https://localhost:8080/"
        },
        "id": "9zV0hT9J7IAe",
        "outputId": "d6900089-b86d-4b66-883c-87d080016db1"
      },
      "execution_count": 45,
      "outputs": [
        {
          "output_type": "stream",
          "name": "stdout",
          "text": [
            "cuda\n"
          ]
        }
      ]
    },
    {
      "cell_type": "code",
      "source": [],
      "metadata": {
        "id": "x_uqr0r57NFm"
      },
      "execution_count": 22,
      "outputs": []
    },
    {
      "cell_type": "code",
      "source": [
        "trainloader = DataLoader(\n",
        "\n",
        "    trainset,\n",
        "    batch_size=128,\n",
        "    shuffle=True,\n",
        "    num_workers=2,\n",
        "    pin_memory=True\n",
        ")\n",
        "\n",
        "testloader = DataLoader(\n",
        "    testset,\n",
        "    batch_size=128,\n",
        "    shuffle=False,\n",
        "    num_workers=2,\n",
        "    pin_memory=True\n",
        ")"
      ],
      "metadata": {
        "id": "_A9ERwNO7--D"
      },
      "execution_count": 46,
      "outputs": []
    },
    {
      "cell_type": "code",
      "source": [
        "class Eyeman(nn.Module):\n",
        "  #CNN Architecture brain\n",
        "  def __init__(self):\n",
        "    super(Eyeman, self).__init__()\n",
        "    #Layer: 1\n",
        "    self.conv1 = nn.Conv2d(3, 32, kernel_size=3, padding=1,stride=1)\n",
        "    self.batch1 = nn.BatchNorm2d(32)\n",
        "\n",
        "    #Layer: 2\n",
        "    self.conv2 = nn.Conv2d(32, 64, kernel_size=3, padding=1,stride=1)\n",
        "    self.batch2 = nn.BatchNorm2d(64)\n",
        "\n",
        "    #Layer: 3\n",
        "    self.conv3 = nn.Conv2d(64, 128, kernel_size=3, padding=1,stride=1)\n",
        "    self.batch3 = nn.BatchNorm2d(128)\n",
        "\n",
        "\n",
        "    #Layer: 4\n",
        "    self.conv4 = nn.Conv2d(128, 256, kernel_size=3, padding=1,stride=1)\n",
        "    self.batch4 = nn.BatchNorm2d(256)\n",
        "\n",
        "    #FC Layers\n",
        "\n",
        "    #FC1 with 50% dropout\n",
        "    self.fc1 = nn.Linear(256*2*2, 512)\n",
        "    self.drop1 = nn.Dropout(0.2)\n",
        "\n",
        "\n",
        "\n",
        "    #Final layer for dataset\n",
        "    self.fc4 = nn.Linear(512, 2)\n",
        "\n",
        "  #Forward pass\n",
        "  def forward(self, x):\n",
        "    x = F.relu(self.batch1(self.conv1(x))) #\n",
        "    x = F.max_pool2d(x , 2,2)  # -> 16 x 16\n",
        "    x = F.relu(self.batch2(self.conv2(x)))\n",
        "    x = F.max_pool2d(x , 2,2) # -> 8 x 8\n",
        "    x = F.relu(self.batch3(self.conv3(x))) #-> 4 x 4\n",
        "    x = F.max_pool2d(x , 2,2)\n",
        "    x = F.relu(self.batch4(self.conv4(x)))\n",
        "    x = F.max_pool2d(x , 2,2) #-> 2 x 2\n",
        "    x = x.contiguous().view(-1 , 256*2*2)\n",
        "    x = F.relu(self.drop1(self.fc1(x)))\n",
        "\n",
        "    x = self.fc4(x)\n",
        "    return x"
      ],
      "metadata": {
        "id": "Zao_hVKK8MzW"
      },
      "execution_count": 47,
      "outputs": []
    },
    {
      "cell_type": "code",
      "source": [],
      "metadata": {
        "id": "89fiSwm2_WJX"
      },
      "execution_count": null,
      "outputs": []
    },
    {
      "cell_type": "code",
      "source": [
        "from matplotlib import pyplot as plt\n",
        "import seaborn as sns\n",
        "import numpy as np\n",
        "\n",
        "model = Eyeman().to(device)\n",
        "criterion = nn.CrossEntropyLoss()\n",
        "optimizer = optim.Adam(\n",
        "    model.parameters(),\n",
        "    lr = 1e-3\n",
        ")\n",
        "#Training Phase\n",
        "residual_loss = 0.0\n",
        "loss_p = []\n",
        "\n",
        "for epoch in range(10):\n",
        "  model.train()\n",
        "  for i, (image, label) in enumerate(trainloader, 0):\n",
        "    image , label = image.to(device), label.to(device)\n",
        "    output = model(image)\n",
        "    loss = criterion(output, label)\n",
        "    # Automatic Differentiation\n",
        "    optimizer.zero_grad()\n",
        "    loss.backward()\n",
        "    optimizer.step()\n",
        "\n",
        "    residual_loss += loss.item()\n",
        "\n",
        "  avg_loss = residual_loss / len(trainloader)\n",
        "  loss_p.append(avg_loss)\n",
        "  print(f\"Epoch: {epoch} -> Loss: {avg_loss}\")\n",
        "  residual_loss = 0.0\n",
        "\n",
        "#Loss progress for optimizer analysis\n",
        "data = np.array(loss_p)\n",
        "plt.figure(figsize=(12,8))\n",
        "sns.lineplot(data)\n",
        "plt.xlabel(\"Loss decay progression!\")\n",
        "plt.tight_layout()\n",
        "plt.show()\n"
      ],
      "metadata": {
        "colab": {
          "base_uri": "https://localhost:8080/",
          "height": 981
        },
        "id": "_uP3Pauz8aLO",
        "outputId": "96c1bd51-90f4-4e78-e4b2-46cfe879591b"
      },
      "execution_count": 48,
      "outputs": [
        {
          "output_type": "stream",
          "name": "stdout",
          "text": [
            "Epoch: 0 -> Loss: 0.6826912119898493\n",
            "Epoch: 1 -> Loss: 0.6169570749894732\n",
            "Epoch: 2 -> Loss: 0.6105595737523426\n",
            "Epoch: 3 -> Loss: 0.6029104976295736\n",
            "Epoch: 4 -> Loss: 0.5971014823527695\n",
            "Epoch: 5 -> Loss: 0.5965643783525235\n",
            "Epoch: 6 -> Loss: 0.5908890592225026\n",
            "Epoch: 7 -> Loss: 0.5866142049690203\n",
            "Epoch: 8 -> Loss: 0.5829236485020963\n",
            "Epoch: 9 -> Loss: 0.583080039548047\n"
          ]
        },
        {
          "output_type": "display_data",
          "data": {
            "text/plain": [
              "<Figure size 1200x800 with 1 Axes>"
            ],
            "image/png": "[encoded data removed]"
          },
          "metadata": {}
        }
      ]
    },
    {
      "cell_type": "code",
      "source": [
        "#Evaluation phase\n",
        "from sklearn.metrics import classification_report, confusion_matrix\n",
        "#Eval()\n",
        "output_pred = []\n",
        "labels = []\n",
        "\n",
        "with torch.no_grad():\n",
        "  model.eval()\n",
        "  for image, label in testloader:\n",
        "    image, label = image.to(device), label.to(device)\n",
        "    outputs = model(image)\n",
        "    _, predictions = torch.max(outputs, 1)\n",
        "    output_pred.extend(predictions.cpu().numpy())\n",
        "    labels.extend(label.cpu().numpy())\n",
        "\n",
        "print(classification_report(output_pred, labels))\n",
        "cm = confusion_matrix(output_pred, labels)\n",
        "plt.figure(figsize=(12,8))\n",
        "sns.heatmap(\n",
        "    cm,\n",
        "    annot=True,\n",
        "    cmap=\"Set2\",\n",
        "    fmt=\"d\"\n",
        ")\n",
        "plt.show()\n",
        "print(cm)"
      ],
      "metadata": {
        "colab": {
          "base_uri": "https://localhost:8080/",
          "height": 867
        },
        "id": "XHUH9Hs4_XRd",
        "outputId": "7a5ca296-5b2e-436e-a3de-225b52e081ec"
      },
      "execution_count": 49,
      "outputs": [
        {
          "output_type": "stream",
          "name": "stdout",
          "text": [
            "              precision    recall  f1-score   support\n",
            "\n",
            "           0       0.61      0.74      0.67      2288\n",
            "           1       0.78      0.67      0.72      3224\n",
            "\n",
            "    accuracy                           0.70      5512\n",
            "   macro avg       0.70      0.70      0.70      5512\n",
            "weighted avg       0.71      0.70      0.70      5512\n",
            "\n"
          ]
        },
        {
          "output_type": "display_data",
          "data": {
            "text/plain": [
              "<Figure size 1200x800 with 2 Axes>"
            ],
            "image/png": "[encoded data removed]"
          },
          "metadata": {}
        },
        {
          "output_type": "stream",
          "name": "stdout",
          "text": [
            "[[1694  594]\n",
            " [1070 2154]]\n"
          ]
        }
      ]
    },
    {
      "cell_type": "code",
      "source": [
        "pwd"
      ],
      "metadata": {
        "colab": {
          "base_uri": "https://localhost:8080/",
          "height": 35
        },
        "id": "z9II2jWSAjD4",
        "outputId": "c026c769-e5b3-47b5-be88-dadbbced5dd9"
      },
      "execution_count": 50,
      "outputs": [
        {
          "output_type": "execute_result",
          "data": {
            "text/plain": [
              "'/content/datasets/malaria/cell_images'"
            ],
            "application/vnd.google.colaboratory.intrinsic+json": {
              "type": "string"
            }
          },
          "metadata": {},
          "execution_count": 50
        }
      ]
    },
    {
      "cell_type": "code",
      "source": [
        "import matplotlib.pyplot as plt\n",
        "import torch\n",
        "\n",
        "class_names = [\"Uninfected\", \"Parasitized\"]\n",
        "\n",
        "mean = torch.tensor([0.485, 0.456, 0.406])\n",
        "std = torch.tensor([0.229, 0.224, 0.225])\n",
        "\n",
        "def denormalize(img_tensor):\n",
        "    img_tensor = img_tensor.clone().cpu()\n",
        "    img_tensor = img_tensor * std[:, None, None] + mean[:, None, None]\n",
        "    return img_tensor.clamp(0,1)\n",
        "\n",
        "\n",
        "# Fetch a batch\n",
        "dataiter = iter(trainloader)\n",
        "images, labels = next(dataiter)\n",
        "images, labels = images.to(device), labels.to(device)\n",
        "\n",
        "# Predictions\n",
        "model.eval()\n",
        "with torch.no_grad():\n",
        "    outputs = model(images)\n",
        "    _, preds = torch.max(outputs, 1)\n",
        "\n",
        "# Plot\n",
        "fig, axes = plt.subplots(2, 5, figsize=(18, 8))  # bigger figure\n",
        "axes = axes.flatten()\n",
        "\n",
        "for idx in range(10):\n",
        "    img = denormalize(images[idx]).permute(1,2,0).numpy()\n",
        "    axes[idx].imshow(img)\n",
        "\n",
        "    title_color = \"green\" if preds[idx] == labels[idx] else \"red\"\n",
        "    axes[idx].set_title(\n",
        "        f\"T:{class_names[labels[idx].item()]}\\nP:{class_names[preds[idx].item()]}\",\n",
        "        color=title_color,\n",
        "        fontsize=12\n",
        "    )\n",
        "    axes[idx].axis(\"off\")\n",
        "\n",
        "plt.tight_layout()\n",
        "plt.show()\n"
      ],
      "metadata": {
        "colab": {
          "base_uri": "https://localhost:8080/",
          "height": 804
        },
        "id": "0EAdD3eGAjq3",
        "outputId": "a879a70a-2278-49a5-b71a-a372558e8edc"
      },
      "execution_count": 53,
      "outputs": [
        {
          "output_type": "display_data",
          "data": {
            "text/plain": [
              "<Figure size 1800x800 with 10 Axes>"
            ],
            "image/png": "[encoded data removed]"
          },
          "metadata": {}
        }
      ]
    },
    {
      "cell_type": "code",
      "source": [],
      "metadata": {
        "id": "biFi1OVyCxdE"
      },
      "execution_count": null,
      "outputs": []
    }
  ]
}